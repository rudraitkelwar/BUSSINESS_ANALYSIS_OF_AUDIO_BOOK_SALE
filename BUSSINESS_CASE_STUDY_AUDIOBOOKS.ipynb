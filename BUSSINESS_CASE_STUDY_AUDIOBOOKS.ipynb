{
 "cells": [
  {
   "cell_type": "code",
   "execution_count": 1,
   "metadata": {},
   "outputs": [],
   "source": [
    "import numpy as np\n",
    "import tensorflow as tf"
   ]
  },
  {
   "cell_type": "code",
   "execution_count": 2,
   "metadata": {},
   "outputs": [],
   "source": [
    "npz=np.load('Audiobooks_data_train.npz')\n",
    "\n",
    "train_inputs=npz['inputs'].astype(np.float)\n",
    "train_targets=npz['targets'].astype(np.int)\n",
    "\n",
    "npz=np.load('Audiobooks_data_validation.npz')\n",
    "\n",
    "validation_inputs=npz['inputs'].astype(np.float)\n",
    "validation_targets=npz['targets'].astype(np.int)\n",
    "\n",
    "npz=np.load('Audiobooks_data_test.npz')\n",
    "\n",
    "test_inputs=npz['inputs'].astype(np.float)\n",
    "test_targets=npz['targets'].astype(np.int)"
   ]
  },
  {
   "cell_type": "code",
   "execution_count": 6,
   "metadata": {},
   "outputs": [
    {
     "name": "stdout",
     "output_type": "stream",
     "text": [
      "Train on 3579 samples, validate on 447 samples\n",
      "Epoch 1/100\n",
      "3579/3579 - 0s - loss: 0.3962 - accuracy: 0.8564 - val_loss: 0.2796 - val_accuracy: 0.8971\n",
      "Epoch 2/100\n",
      "3579/3579 - 0s - loss: 0.2840 - accuracy: 0.8916 - val_loss: 0.2544 - val_accuracy: 0.9150\n",
      "Epoch 3/100\n",
      "3579/3579 - 0s - loss: 0.2690 - accuracy: 0.9008 - val_loss: 0.2300 - val_accuracy: 0.9217\n",
      "Epoch 4/100\n",
      "3579/3579 - 0s - loss: 0.2568 - accuracy: 0.9064 - val_loss: 0.2417 - val_accuracy: 0.9172\n",
      "Epoch 5/100\n",
      "3579/3579 - 0s - loss: 0.2559 - accuracy: 0.9070 - val_loss: 0.2197 - val_accuracy: 0.9239\n",
      "Epoch 6/100\n",
      "3579/3579 - 0s - loss: 0.2406 - accuracy: 0.9114 - val_loss: 0.2176 - val_accuracy: 0.9306\n",
      "Epoch 7/100\n",
      "3579/3579 - 0s - loss: 0.2392 - accuracy: 0.9100 - val_loss: 0.2188 - val_accuracy: 0.9239\n",
      "Epoch 8/100\n",
      "3579/3579 - 0s - loss: 0.2378 - accuracy: 0.9098 - val_loss: 0.2085 - val_accuracy: 0.9262\n",
      "Epoch 9/100\n",
      "3579/3579 - 0s - loss: 0.2340 - accuracy: 0.9134 - val_loss: 0.2029 - val_accuracy: 0.9306\n",
      "Epoch 10/100\n",
      "3579/3579 - 0s - loss: 0.2318 - accuracy: 0.9134 - val_loss: 0.2137 - val_accuracy: 0.9217\n",
      "Epoch 11/100\n",
      "3579/3579 - 0s - loss: 0.2327 - accuracy: 0.9128 - val_loss: 0.2053 - val_accuracy: 0.9284\n"
     ]
    },
    {
     "data": {
      "text/plain": [
       "<tensorflow.python.keras.callbacks.History at 0x25f48004248>"
      ]
     },
     "execution_count": 6,
     "metadata": {},
     "output_type": "execute_result"
    }
   ],
   "source": [
    "input_size=10\n",
    "output_size=2\n",
    "hidden_layer_size=200\n",
    "\n",
    "model=tf.keras.Sequential([ \n",
    "                           tf.keras.layers.Dense(hidden_layer_size,activation='relu'),\n",
    "                           tf.keras.layers.Dense(hidden_layer_size,activation='relu'),\n",
    "                           tf.keras.layers.Dense(hidden_layer_size,activation='relu'),\n",
    "                           tf.keras.layers.Dense(output_size,activation='softmax')    \n",
    "                            ])\n",
    "model.compile(optimizer='adam',loss='sparse_categorical_crossentropy',metrics=['accuracy'])\n",
    "\n",
    "early_stopping=tf.keras.callbacks.EarlyStopping(patience=2)\n",
    "\n",
    "batch_size=100\n",
    "epochs=100\n",
    "\n",
    "model.fit(train_inputs,train_targets,batch_size=batch_size,epochs=epochs,callbacks=[early_stopping],\n",
    "          validation_data=(validation_inputs,validation_targets),verbose=2)"
   ]
  },
  {
   "cell_type": "code",
   "execution_count": 7,
   "metadata": {},
   "outputs": [
    {
     "name": "stdout",
     "output_type": "stream",
     "text": [
      "448/448 [==============================] - 0s 189us/sample - loss: 0.2190 - accuracy: 0.9241\n"
     ]
    }
   ],
   "source": [
    "test_loss,test_accuracy=model.evaluate(test_inputs,test_targets)"
   ]
  },
  {
   "cell_type": "code",
   "execution_count": 9,
   "metadata": {},
   "outputs": [
    {
     "name": "stdout",
     "output_type": "stream",
     "text": [
      "\n",
      " test_loss: 0.22.test accuracy: 92.41%\n"
     ]
    }
   ],
   "source": [
    "print('\\n test_loss: {0:.2f}.test accuracy: {1:.2f}%'.format(test_loss,test_accuracy*100.))"
   ]
  },
  {
   "cell_type": "code",
   "execution_count": null,
   "metadata": {},
   "outputs": [],
   "source": []
  }
 ],
 "metadata": {
  "kernelspec": {
   "display_name": "Python [conda env:py3-TF2.0]",
   "language": "python",
   "name": "conda-env-py3-TF2.0-py"
  },
  "language_info": {
   "codemirror_mode": {
    "name": "ipython",
    "version": 3
   },
   "file_extension": ".py",
   "mimetype": "text/x-python",
   "name": "python",
   "nbconvert_exporter": "python",
   "pygments_lexer": "ipython3",
   "version": "3.7.7"
  }
 },
 "nbformat": 4,
 "nbformat_minor": 4
}
